{
  "nbformat": 4,
  "nbformat_minor": 0,
  "metadata": {
    "colab": {
      "provenance": []
    },
    "kernelspec": {
      "name": "python3",
      "display_name": "Python 3"
    },
    "language_info": {
      "name": "python"
    }
  },
  "cells": [
    {
      "cell_type": "code",
      "execution_count": null,
      "metadata": {
        "id": "NBMzv6N2THD6"
      },
      "outputs": [],
      "source": [
        "import numpy as np\n",
        "import pandas as pd\n",
        "import seaborn as sns\n",
        "import nltk\n",
        "import matplotlib.pyplot as plt\n",
        "\n",
        "from sklearn.model_selection import train_test_split, GridSearchCV\n",
        "from sklearn.pipeline import Pipeline\n",
        "from sklearn.naive_bayes import MultinomialNB, BernoulliNB, GaussianNB\n",
        "from sklearn.linear_model import LogisticRegressionCV, LogisticRegression\n",
        "from sklearn.metrics import confusion_matrix, ConfusionMatrixDisplay\n",
        "from sklearn.feature_extraction.text import CountVectorizer, TfidfVectorizer\n",
        "from sklearn.ensemble import RandomForestClassifier, ExtraTreesClassifier\n",
        "from nltk.stem import WordNetLemmatizer\n",
        "\n",
        "from sklearn.preprocessing import LabelEncoder, StandardScaler\n",
        "import tensorflow as tf\n",
        "from tensorflow.keras.layers import Dense, Dropout, BatchNormalization\n",
        "from tensorflow.keras.regularizers import l1, l2, l1_l2\n",
        "\n",
        "from tensorflow.keras.preprocessing.text import Tokenizer\n",
        "from tensorflow.keras.preprocessing.sequence import pad_sequences\n",
        "from tensorflow.keras.layers import Dense, LSTM, Embedding\n",
        "from tensorflow.keras.models import Sequential\n",
        "from tensorflow.keras.utils import to_categorical\n",
        "\n",
        "from tensorflow.keras.layers import Bidirectional\n",
        "from tensorflow.keras.callbacks import EarlyStopping\n",
        "from keras.layers import Flatten\n",
        "\n",
        "\n",
        "from statistics import mean\n",
        "from sklearn import metrics\n",
        "from wordcloud import WordCloud\n",
        "from wordcloud import ImageColorGenerator\n",
        "from wordcloud import STOPWORDS"
      ]
    },
    {
      "cell_type": "code",
      "source": [
        "import pickle"
      ],
      "metadata": {
        "id": "jWuT_LYNTR8h"
      },
      "execution_count": null,
      "outputs": []
    },
    {
      "cell_type": "code",
      "source": [
        "with open('clean_df.pkl', 'rb') as file:\n",
        "    clean_df = pickle.load(file)"
      ],
      "metadata": {
        "id": "3I9tYcyITUOL"
      },
      "execution_count": null,
      "outputs": []
    },
    {
      "cell_type": "code",
      "source": [
        "with open('clean_df_test.pkl', 'rb') as file:\n",
        "    clean_df_test = pickle.load(file)"
      ],
      "metadata": {
        "id": "eGbkNMq4X3jA"
      },
      "execution_count": null,
      "outputs": []
    },
    {
      "cell_type": "code",
      "source": [
        "with open('stop_words.pkl', 'rb') as file:\n",
        "    stop_words = pickle.load(file)"
      ],
      "metadata": {
        "id": "gHPUNNhbTbq-"
      },
      "execution_count": null,
      "outputs": []
    },
    {
      "cell_type": "code",
      "source": [
        "import nltk\n",
        "nltk.download('wordnet')"
      ],
      "metadata": {
        "colab": {
          "base_uri": "https://localhost:8080/"
        },
        "id": "jIZTW9PfTta6",
        "outputId": "102da094-a0f9-40b3-c71f-48034753f45e"
      },
      "execution_count": null,
      "outputs": [
        {
          "output_type": "stream",
          "name": "stderr",
          "text": [
            "[nltk_data] Downloading package wordnet to /root/nltk_data...\n"
          ]
        },
        {
          "output_type": "execute_result",
          "data": {
            "text/plain": [
              "True"
            ]
          },
          "metadata": {},
          "execution_count": 8
        }
      ]
    },
    {
      "cell_type": "code",
      "source": [
        "w_tokenizer = nltk.tokenize.WhitespaceTokenizer()\n",
        "lemmatizer = WordNetLemmatizer()\n",
        "\n",
        "def lemmatize_text(text):\n",
        "    x = [lemmatizer.lemmatize(w) for w in w_tokenizer.tokenize(text)]\n",
        "    return(\" \".join(x))\n",
        "\n",
        "clean_df_l = pd.DataFrame(clean_df, columns=['Phrase_3'])\n",
        "\n",
        "clean_df_l['lemmed_phrase'] = clean_df_l.Phrase_3.apply(lemmatize_text)"
      ],
      "metadata": {
        "id": "3VLCESp_Tcvu"
      },
      "execution_count": null,
      "outputs": []
    },
    {
      "cell_type": "code",
      "source": [
        "clean_df_use = pd.merge(clean_df_l, clean_df[[\"Sentiment\"]], how='inner', left_index=True,\n",
        "                     right_index=True,)"
      ],
      "metadata": {
        "id": "w_ASQDKqUA2q"
      },
      "execution_count": null,
      "outputs": []
    },
    {
      "cell_type": "code",
      "source": [
        "#Repeat for Test Data\n",
        "def lemmatize_text(text):\n",
        "    x = [lemmatizer.lemmatize(w) for w in w_tokenizer.tokenize(text)]\n",
        "    return(\" \".join(x))\n",
        "\n",
        "clean_df_l_test = pd.DataFrame(clean_df_test, columns=['Phrase_3'])\n",
        "\n",
        "clean_df_l_test['lemmed_phrase'] = clean_df_l_test.Phrase_3.apply(lemmatize_text)"
      ],
      "metadata": {
        "id": "DiNjShFnX-6l"
      },
      "execution_count": null,
      "outputs": []
    },
    {
      "cell_type": "code",
      "source": [
        "X_test_test = clean_df_l_test[\"lemmed_phrase\"]"
      ],
      "metadata": {
        "id": "4N1Mc7NMYauo"
      },
      "execution_count": null,
      "outputs": []
    },
    {
      "cell_type": "code",
      "source": [
        "X = clean_df_use[\"lemmed_phrase\"]\n",
        "y = clean_df_use[\"Sentiment\"]"
      ],
      "metadata": {
        "id": "lpKHqWevUDqp"
      },
      "execution_count": null,
      "outputs": []
    },
    {
      "cell_type": "code",
      "source": [
        "reviews = []\n",
        "labels = []\n",
        "\n",
        "more_words_to_exclude = [\"film\", \"movie\", \"one\"]\n",
        "stop_words.extend(more_words_to_exclude)\n",
        "\n",
        "for index, row in clean_df_use.iterrows():\n",
        "  labels.append(row['Sentiment'])\n",
        "\n",
        "  token_list = [x for x in row['lemmed_phrase'].split() if x not in stop_words]\n",
        "\n",
        "  reviews.append(\" \".join(token_list))"
      ],
      "metadata": {
        "id": "rSLiA8LDUgpM"
      },
      "execution_count": null,
      "outputs": []
    },
    {
      "cell_type": "code",
      "source": [
        "X_train, X_test, y_train, y_test = train_test_split(X,\n",
        "                                                    y,\n",
        "                                                    random_state=42,\n",
        "                                                   stratify=y)"
      ],
      "metadata": {
        "id": "FK0Z-HM_UHDh"
      },
      "execution_count": null,
      "outputs": []
    },
    {
      "cell_type": "code",
      "source": [
        "vocab_size = 5000\n",
        "embedding_dim = 64\n",
        "max_length = 200\n",
        "trunc_type = 'post'\n",
        "padding_type = 'post'\n",
        "oov_tok = '<OOV>'"
      ],
      "metadata": {
        "id": "dYGmpCfhVdaD"
      },
      "execution_count": null,
      "outputs": []
    },
    {
      "cell_type": "code",
      "source": [
        "tokenizer = Tokenizer(num_words=vocab_size, oov_token=oov_tok)\n",
        "tokenizer.fit_on_texts(X_train)"
      ],
      "metadata": {
        "id": "c1QraKilVs6Z"
      },
      "execution_count": null,
      "outputs": []
    },
    {
      "cell_type": "code",
      "source": [
        "train_seq = tokenizer.texts_to_sequences(X_train)"
      ],
      "metadata": {
        "id": "zwZY_sR-V-vL"
      },
      "execution_count": null,
      "outputs": []
    },
    {
      "cell_type": "code",
      "source": [
        "train_padded = pad_sequences(train_seq, maxlen=max_length, padding= padding_type,\n",
        "                             truncating = trunc_type)"
      ],
      "metadata": {
        "id": "ScpFt5t5WBHt"
      },
      "execution_count": null,
      "outputs": []
    },
    {
      "cell_type": "code",
      "source": [
        "test_seq = tokenizer.texts_to_sequences(X_test)\n",
        "test_padded = pad_sequences(test_seq, maxlen = max_length, padding = padding_type,\n",
        "                            truncating = trunc_type)"
      ],
      "metadata": {
        "id": "w6oLL7OqWE5k"
      },
      "execution_count": null,
      "outputs": []
    },
    {
      "cell_type": "code",
      "source": [
        "encoder = LabelEncoder()\n",
        "y_train = encoder.fit_transform(y_train)\n",
        "y_test = encoder.transform(y_test)"
      ],
      "metadata": {
        "id": "zf23B0sDXfgD"
      },
      "execution_count": null,
      "outputs": []
    },
    {
      "cell_type": "code",
      "source": [
        "encoder.classes_"
      ],
      "metadata": {
        "colab": {
          "base_uri": "https://localhost:8080/"
        },
        "id": "lDczHiAxYABO",
        "outputId": "17999135-c894-479d-c598-3e2a56954879"
      },
      "execution_count": null,
      "outputs": [
        {
          "output_type": "execute_result",
          "data": {
            "text/plain": [
              "array([0, 1, 2, 3, 4])"
            ]
          },
          "metadata": {},
          "execution_count": 36
        }
      ]
    },
    {
      "cell_type": "code",
      "source": [
        "y_train = to_categorical(y_train, 5)\n",
        "y_test = to_categorical(y_test, 5)"
      ],
      "metadata": {
        "id": "0oEvWxSNX-s3"
      },
      "execution_count": null,
      "outputs": []
    },
    {
      "cell_type": "code",
      "source": [
        "train_padded.shape"
      ],
      "metadata": {
        "colab": {
          "base_uri": "https://localhost:8080/"
        },
        "id": "YtSwLzRkapyu",
        "outputId": "22337d5b-ad5a-4501-93d1-818244731eee"
      },
      "execution_count": null,
      "outputs": [
        {
          "output_type": "execute_result",
          "data": {
            "text/plain": [
              "(6397, 200)"
            ]
          },
          "metadata": {},
          "execution_count": 46
        }
      ]
    },
    {
      "cell_type": "code",
      "source": [
        "model = Sequential()\n",
        "model.add(Embedding(vocab_size, embedding_dim, input_length = max_length))\n",
        "model.add(Bidirectional(LSTM(64, return_sequences = True)))\n",
        "model.add(Bidirectional(LSTM(32)))\n",
        "model.add(Dense(5, activation = 'softmax'))\n",
        "\n",
        "model.summary()"
      ],
      "metadata": {
        "colab": {
          "base_uri": "https://localhost:8080/"
        },
        "id": "N7iIH6WbWM9y",
        "outputId": "b0a18842-da76-49c7-fa05-639271ab71fb"
      },
      "execution_count": null,
      "outputs": [
        {
          "output_type": "stream",
          "name": "stdout",
          "text": [
            "Model: \"sequential_8\"\n",
            "_________________________________________________________________\n",
            " Layer (type)                Output Shape              Param #   \n",
            "=================================================================\n",
            " embedding_8 (Embedding)     (None, 200, 64)           320000    \n",
            "                                                                 \n",
            " bidirectional_10 (Bidirect  (None, 200, 128)          66048     \n",
            " ional)                                                          \n",
            "                                                                 \n",
            " bidirectional_11 (Bidirect  (None, 64)                41216     \n",
            " ional)                                                          \n",
            "                                                                 \n",
            " dense_15 (Dense)            (None, 5)                 325       \n",
            "                                                                 \n",
            "=================================================================\n",
            "Total params: 427589 (1.63 MB)\n",
            "Trainable params: 427589 (1.63 MB)\n",
            "Non-trainable params: 0 (0.00 Byte)\n",
            "_________________________________________________________________\n"
          ]
        }
      ]
    },
    {
      "cell_type": "code",
      "source": [
        "model.compile(loss = 'categorical_crossentropy', optimizer = 'adam', metrics = ['acc'])"
      ],
      "metadata": {
        "id": "_DWOqiuPWSIt"
      },
      "execution_count": null,
      "outputs": []
    },
    {
      "cell_type": "code",
      "source": [
        "model.fit(train_padded, y_train, validation_data = (test_padded, y_test),\n",
        "          batch_size = 50, epochs = 5)"
      ],
      "metadata": {
        "colab": {
          "base_uri": "https://localhost:8080/"
        },
        "id": "dr89Gk0sWT9L",
        "outputId": "bfb965b6-b992-4e1d-8bcf-bcfd85925ed3"
      },
      "execution_count": null,
      "outputs": [
        {
          "output_type": "stream",
          "name": "stdout",
          "text": [
            "Epoch 1/5\n",
            "128/128 [==============================] - 84s 582ms/step - loss: 1.5517 - acc: 0.2898 - val_loss: 1.4468 - val_acc: 0.3615\n",
            "Epoch 2/5\n",
            "128/128 [==============================] - 74s 579ms/step - loss: 1.3156 - acc: 0.4261 - val_loss: 1.3613 - val_acc: 0.3882\n",
            "Epoch 3/5\n",
            "128/128 [==============================] - 68s 532ms/step - loss: 1.0326 - acc: 0.5668 - val_loss: 1.4587 - val_acc: 0.3830\n",
            "Epoch 4/5\n",
            "128/128 [==============================] - 68s 529ms/step - loss: 0.7781 - acc: 0.6935 - val_loss: 1.6503 - val_acc: 0.3812\n",
            "Epoch 5/5\n",
            "128/128 [==============================] - 73s 570ms/step - loss: 0.6001 - acc: 0.7738 - val_loss: 1.8872 - val_acc: 0.3577\n"
          ]
        },
        {
          "output_type": "execute_result",
          "data": {
            "text/plain": [
              "<keras.src.callbacks.History at 0x7e21c0dceb30>"
            ]
          },
          "metadata": {},
          "execution_count": 80
        }
      ]
    },
    {
      "cell_type": "markdown",
      "source": [
        "The model is severely overfitting and underperforming on validation data\n",
        "\n"
      ],
      "metadata": {
        "id": "asz9JpOGZj0i"
      }
    },
    {
      "cell_type": "code",
      "source": [
        "model1a = Sequential()\n",
        "model1a.add(Embedding(vocab_size, 500, input_length = max_length))\n",
        "model1a.add(LSTM(128, return_sequences = True))\n",
        "model1a.add(Bidirectional(LSTM(64)))\n",
        "model1a.add(Dense(32, activation = 'relu', kernel_regularizer=tf.keras.regularizers.L2(0.01)))\n",
        "model1a.add(Dropout(rate = 0.1))\n",
        "model1a.add(Dense(16, activation = 'relu'))\n",
        "model1a.add(Dense(5, activation = 'softmax'))\n",
        "\n",
        "model1a.summary()"
      ],
      "metadata": {
        "colab": {
          "base_uri": "https://localhost:8080/"
        },
        "id": "zlMko4XICvA4",
        "outputId": "30cfee23-ec57-4841-af94-617abaa81299"
      },
      "execution_count": null,
      "outputs": [
        {
          "output_type": "stream",
          "name": "stdout",
          "text": [
            "Model: \"sequential_27\"\n",
            "_________________________________________________________________\n",
            " Layer (type)                Output Shape              Param #   \n",
            "=================================================================\n",
            " embedding_27 (Embedding)    (None, 200, 500)          2500000   \n",
            "                                                                 \n",
            " lstm_12 (LSTM)              (None, 200, 128)          322048    \n",
            "                                                                 \n",
            " bidirectional_29 (Bidirect  (None, 128)               98816     \n",
            " ional)                                                          \n",
            "                                                                 \n",
            " dense_62 (Dense)            (None, 32)                4128      \n",
            "                                                                 \n",
            " dropout_13 (Dropout)        (None, 32)                0         \n",
            "                                                                 \n",
            " dense_63 (Dense)            (None, 16)                528       \n",
            "                                                                 \n",
            " dense_64 (Dense)            (None, 5)                 85        \n",
            "                                                                 \n",
            "=================================================================\n",
            "Total params: 2925605 (11.16 MB)\n",
            "Trainable params: 2925605 (11.16 MB)\n",
            "Non-trainable params: 0 (0.00 Byte)\n",
            "_________________________________________________________________\n"
          ]
        }
      ]
    },
    {
      "cell_type": "code",
      "source": [
        "model1a.compile(loss = 'categorical_crossentropy', optimizer = 'adam', metrics = ['acc'])"
      ],
      "metadata": {
        "id": "L-OASyhXDKJ4"
      },
      "execution_count": null,
      "outputs": []
    },
    {
      "cell_type": "code",
      "source": [
        "h1a = model1a.fit(train_padded, y_train, validation_data = (test_padded, y_test),\n",
        "          batch_size = 50, epochs = 5)"
      ],
      "metadata": {
        "colab": {
          "base_uri": "https://localhost:8080/"
        },
        "id": "EEjBVMtpDOOO",
        "outputId": "970f71ba-f9cf-45b5-9dde-5280baf0018d"
      },
      "execution_count": null,
      "outputs": [
        {
          "output_type": "stream",
          "name": "stdout",
          "text": [
            "Epoch 1/5\n",
            "128/128 [==============================] - 193s 1s/step - loss: 1.7855 - acc: 0.3012 - val_loss: 1.5484 - val_acc: 0.3657\n",
            "Epoch 2/5\n",
            "128/128 [==============================] - 184s 1s/step - loss: 1.4015 - acc: 0.4144 - val_loss: 1.4341 - val_acc: 0.3863\n",
            "Epoch 3/5\n",
            "128/128 [==============================] - 178s 1s/step - loss: 1.1898 - acc: 0.5023 - val_loss: 1.4539 - val_acc: 0.3952\n",
            "Epoch 4/5\n",
            "128/128 [==============================] - 183s 1s/step - loss: 1.0331 - acc: 0.5732 - val_loss: 1.5456 - val_acc: 0.3788\n",
            "Epoch 5/5\n",
            "128/128 [==============================] - 179s 1s/step - loss: 0.9223 - acc: 0.6226 - val_loss: 1.7248 - val_acc: 0.3488\n"
          ]
        }
      ]
    },
    {
      "cell_type": "markdown",
      "source": [
        "**Trying regularization and GRU**"
      ],
      "metadata": {
        "id": "nLLzMktsb4_c"
      }
    },
    {
      "cell_type": "code",
      "source": [
        "model1b = Sequential()\n",
        "model1b.add(Embedding(vocab_size, embedding_dim, input_length = max_length))\n",
        "model1b.add(Bidirectional(tf.keras.layers.GRU(32)))\n",
        "model1b.add(Dense(16, activation = 'relu', kernel_regularizer=tf.keras.regularizers.L2(0.01)))\n",
        "model1b.add(Dense(8, activation = 'relu'))\n",
        "model1b.add(Dense(5, activation = 'softmax'))\n",
        "\n",
        "model1b.summary()"
      ],
      "metadata": {
        "colab": {
          "base_uri": "https://localhost:8080/"
        },
        "id": "0u6b-sbrZrQc",
        "outputId": "a1a5a6b5-2522-4926-8645-66fd8cfc414c"
      },
      "execution_count": null,
      "outputs": [
        {
          "output_type": "stream",
          "name": "stdout",
          "text": [
            "Model: \"sequential_26\"\n",
            "_________________________________________________________________\n",
            " Layer (type)                Output Shape              Param #   \n",
            "=================================================================\n",
            " embedding_26 (Embedding)    (None, 200, 64)           320000    \n",
            "                                                                 \n",
            " bidirectional_28 (Bidirect  (None, 64)                18816     \n",
            " ional)                                                          \n",
            "                                                                 \n",
            " dense_59 (Dense)            (None, 16)                1040      \n",
            "                                                                 \n",
            " dense_60 (Dense)            (None, 8)                 136       \n",
            "                                                                 \n",
            " dense_61 (Dense)            (None, 5)                 45        \n",
            "                                                                 \n",
            "=================================================================\n",
            "Total params: 340037 (1.30 MB)\n",
            "Trainable params: 340037 (1.30 MB)\n",
            "Non-trainable params: 0 (0.00 Byte)\n",
            "_________________________________________________________________\n"
          ]
        }
      ]
    },
    {
      "cell_type": "code",
      "source": [
        "model1b.compile(loss = 'categorical_crossentropy', optimizer = 'adam', metrics = ['acc'])"
      ],
      "metadata": {
        "id": "s8XUK3onbxWV"
      },
      "execution_count": null,
      "outputs": []
    },
    {
      "cell_type": "code",
      "source": [
        "h1b = model1b.fit(train_padded, y_train, validation_data = (test_padded, y_test),\n",
        "          batch_size = 50, epochs = 10)"
      ],
      "metadata": {
        "colab": {
          "base_uri": "https://localhost:8080/"
        },
        "id": "mOmyz9LDbzMZ",
        "outputId": "fc6f13b1-7e83-484e-b264-bdfd11570b6a"
      },
      "execution_count": null,
      "outputs": [
        {
          "output_type": "stream",
          "name": "stdout",
          "text": [
            "Epoch 1/10\n",
            "128/128 [==============================] - 35s 236ms/step - loss: 1.7116 - acc: 0.2723 - val_loss: 1.6198 - val_acc: 0.2724\n",
            "Epoch 2/10\n",
            "128/128 [==============================] - 28s 219ms/step - loss: 1.4861 - acc: 0.3924 - val_loss: 1.4548 - val_acc: 0.3872\n",
            "Epoch 3/10\n",
            "128/128 [==============================] - 37s 290ms/step - loss: 1.2222 - acc: 0.5010 - val_loss: 1.4677 - val_acc: 0.3657\n",
            "Epoch 4/10\n",
            "128/128 [==============================] - 29s 227ms/step - loss: 1.0245 - acc: 0.5981 - val_loss: 1.6090 - val_acc: 0.3657\n",
            "Epoch 5/10\n",
            "128/128 [==============================] - 28s 221ms/step - loss: 0.8631 - acc: 0.6791 - val_loss: 1.7623 - val_acc: 0.3619\n",
            "Epoch 6/10\n",
            "128/128 [==============================] - 30s 232ms/step - loss: 0.7561 - acc: 0.7358 - val_loss: 1.9925 - val_acc: 0.3535\n",
            "Epoch 7/10\n",
            "128/128 [==============================] - 29s 224ms/step - loss: 0.6660 - acc: 0.7794 - val_loss: 2.1690 - val_acc: 0.3624\n",
            "Epoch 8/10\n",
            "128/128 [==============================] - 29s 225ms/step - loss: 0.5894 - acc: 0.8135 - val_loss: 2.3609 - val_acc: 0.3657\n",
            "Epoch 9/10\n",
            "128/128 [==============================] - 29s 227ms/step - loss: 0.5262 - acc: 0.8412 - val_loss: 2.6428 - val_acc: 0.3488\n",
            "Epoch 10/10\n",
            "128/128 [==============================] - 29s 229ms/step - loss: 0.4715 - acc: 0.8643 - val_loss: 2.8088 - val_acc: 0.3427\n"
          ]
        }
      ]
    },
    {
      "cell_type": "code",
      "source": [
        "plt.plot(h1b.history['loss'], label = 'Train CCE')\n",
        "plt.plot(h1b.history['val_loss'], label = 'Val CCE')\n",
        "\n",
        "plt.plot(h1b.history['acc'], label = 'Train Acc')\n",
        "plt.plot(h1b.history['val_acc'], label = 'Val Acc')\n",
        "\n",
        "plt.legend();"
      ],
      "metadata": {
        "colab": {
          "base_uri": "https://localhost:8080/",
          "height": 430
        },
        "id": "mox8yroGQf1Y",
        "outputId": "e483fd86-2189-49d3-9241-e768b50d0f9f"
      },
      "execution_count": null,
      "outputs": [
        {
          "output_type": "display_data",
          "data": {
            "text/plain": [
              "<Figure size 640x480 with 1 Axes>"
            ],
            "image/png": "[encoded data removed]"
          },
          "metadata": {}
        }
      ]
    },
    {
      "cell_type": "markdown",
      "source": [
        "The model is severely overfitting, with a much higher accuracy on training data, and continuing to underperform on validation data\n"
      ],
      "metadata": {
        "id": "H4PzuxxygYe6"
      }
    },
    {
      "cell_type": "markdown",
      "source": [
        "**Trying Dropouts and Early Stopping**"
      ],
      "metadata": {
        "id": "U2dZrnzwls98"
      }
    },
    {
      "cell_type": "code",
      "source": [
        "model2 = Sequential()\n",
        "model2.add(Embedding(vocab_size, embedding_dim, input_length = max_length))\n",
        "model2.add(Bidirectional(tf.keras.layers.GRU(32)))\n",
        "model2.add(Dense(16, activation = 'relu', kernel_regularizer=tf.keras.regularizers.L2(0.01)))\n",
        "model2.add(Dropout(rate = 0.1))\n",
        "model2.add(Dense(8, activation = 'relu'))\n",
        "model2.add(Dense(5, activation = 'softmax'))\n",
        "\n",
        "model2.summary()\n",
        "\n",
        "es = EarlyStopping(monitor = 'val_loss', patience  = 5, restore_best_weights = True)"
      ],
      "metadata": {
        "colab": {
          "base_uri": "https://localhost:8080/"
        },
        "id": "tXWPqfI3lNrd",
        "outputId": "2072503d-f6ba-4e0b-a5d2-2b7d1d337163"
      },
      "execution_count": null,
      "outputs": [
        {
          "output_type": "stream",
          "name": "stdout",
          "text": [
            "Model: \"sequential_25\"\n",
            "_________________________________________________________________\n",
            " Layer (type)                Output Shape              Param #   \n",
            "=================================================================\n",
            " embedding_25 (Embedding)    (None, 200, 64)           320000    \n",
            "                                                                 \n",
            " bidirectional_27 (Bidirect  (None, 64)                18816     \n",
            " ional)                                                          \n",
            "                                                                 \n",
            " dense_56 (Dense)            (None, 16)                1040      \n",
            "                                                                 \n",
            " dropout_12 (Dropout)        (None, 16)                0         \n",
            "                                                                 \n",
            " dense_57 (Dense)            (None, 8)                 136       \n",
            "                                                                 \n",
            " dense_58 (Dense)            (None, 5)                 45        \n",
            "                                                                 \n",
            "=================================================================\n",
            "Total params: 340037 (1.30 MB)\n",
            "Trainable params: 340037 (1.30 MB)\n",
            "Non-trainable params: 0 (0.00 Byte)\n",
            "_________________________________________________________________\n"
          ]
        }
      ]
    },
    {
      "cell_type": "code",
      "source": [
        "model2.compile(loss = 'categorical_crossentropy', optimizer = 'adam', metrics = ['acc'])"
      ],
      "metadata": {
        "id": "o4BZSFBWl4jn"
      },
      "execution_count": null,
      "outputs": []
    },
    {
      "cell_type": "code",
      "source": [
        "h2 = model2.fit(train_padded, y_train, validation_data = (test_padded, y_test),\n",
        "          batch_size = 50, epochs = 10, callbacks = es)"
      ],
      "metadata": {
        "colab": {
          "base_uri": "https://localhost:8080/"
        },
        "id": "TmBex8Qol82-",
        "outputId": "beaca548-dcd7-4cef-bb6a-1c1c1b6e299e"
      },
      "execution_count": null,
      "outputs": [
        {
          "output_type": "stream",
          "name": "stdout",
          "text": [
            "Epoch 1/10\n",
            "128/128 [==============================] - 47s 265ms/step - loss: 1.7138 - acc: 0.2722 - val_loss: 1.6246 - val_acc: 0.2724\n",
            "Epoch 2/10\n",
            "128/128 [==============================] - 28s 219ms/step - loss: 1.5647 - acc: 0.3080 - val_loss: 1.5456 - val_acc: 0.2935\n",
            "Epoch 3/10\n",
            "128/128 [==============================] - 30s 231ms/step - loss: 1.3882 - acc: 0.3908 - val_loss: 1.4923 - val_acc: 0.3249\n",
            "Epoch 4/10\n",
            "128/128 [==============================] - 31s 239ms/step - loss: 1.2379 - acc: 0.4535 - val_loss: 1.5315 - val_acc: 0.3535\n",
            "Epoch 5/10\n",
            "128/128 [==============================] - 28s 217ms/step - loss: 1.1110 - acc: 0.5095 - val_loss: 1.5584 - val_acc: 0.3497\n",
            "Epoch 6/10\n",
            "128/128 [==============================] - 27s 214ms/step - loss: 1.0024 - acc: 0.5862 - val_loss: 1.6159 - val_acc: 0.3680\n",
            "Epoch 7/10\n",
            "128/128 [==============================] - 30s 237ms/step - loss: 0.8968 - acc: 0.6390 - val_loss: 1.7978 - val_acc: 0.3343\n",
            "Epoch 8/10\n",
            "128/128 [==============================] - 28s 215ms/step - loss: 0.8303 - acc: 0.6744 - val_loss: 1.8987 - val_acc: 0.3516\n"
          ]
        }
      ]
    },
    {
      "cell_type": "code",
      "source": [
        "plt.plot(h2.history['loss'], label = 'Train CCE')\n",
        "plt.plot(h2.history['val_loss'], label = 'Val CCE')\n",
        "\n",
        "plt.plot(h2.history['acc'], label = 'Train Acc')\n",
        "plt.plot(h2.history['val_acc'], label = 'Val Acc')\n",
        "\n",
        "plt.legend();"
      ],
      "metadata": {
        "colab": {
          "base_uri": "https://localhost:8080/",
          "height": 430
        },
        "id": "VI3xMvGqQXr3",
        "outputId": "94295bdb-8398-4735-f3ce-0b046a11fadb"
      },
      "execution_count": null,
      "outputs": [
        {
          "output_type": "display_data",
          "data": {
            "text/plain": [
              "<Figure size 640x480 with 1 Axes>"
            ],
            "image/png": "[encoded data removed]"
          },
          "metadata": {}
        }
      ]
    },
    {
      "cell_type": "markdown",
      "source": [
        "Model continues to generate good results on training data and poor results on testing data."
      ],
      "metadata": {
        "id": "1TgLQ5BgnwEh"
      }
    },
    {
      "cell_type": "markdown",
      "source": [
        "**Trying a Word2Vec layer**"
      ],
      "metadata": {
        "id": "jysinKpZvbRw"
      }
    },
    {
      "cell_type": "code",
      "source": [
        "from gensim.models import Word2Vec"
      ],
      "metadata": {
        "id": "a_8Fr_nTwNrR"
      },
      "execution_count": null,
      "outputs": []
    },
    {
      "cell_type": "code",
      "source": [
        "X_w2v = [sentence.split() for sentence in X]"
      ],
      "metadata": {
        "id": "F4a5PF6bwSE6"
      },
      "execution_count": null,
      "outputs": []
    },
    {
      "cell_type": "code",
      "source": [
        "w2v_model = Word2Vec(X_w2v, vector_size=500, window=5, min_count=10, workers=4)\n"
      ],
      "metadata": {
        "id": "LNmahqivn3SB"
      },
      "execution_count": null,
      "outputs": []
    },
    {
      "cell_type": "code",
      "source": [
        "tokenizer = Tokenizer()\n",
        "tokenizer.fit_on_texts(X_w2v)\n",
        "vocab_size_new = len(tokenizer.word_index) + 1"
      ],
      "metadata": {
        "id": "1zmvy6SZysaq"
      },
      "execution_count": null,
      "outputs": []
    },
    {
      "cell_type": "code",
      "source": [
        "# Create a weight matrix for the embedding layer\n",
        "embedding_matrix = np.zeros((vocab_size_new, 500))\n",
        "for word, i in tokenizer.word_index.items():\n",
        "    if word in w2v_model.wv:\n",
        "        embedding_matrix[i] = w2v_model.wv[word]"
      ],
      "metadata": {
        "id": "cs33V7vZ1PgQ"
      },
      "execution_count": null,
      "outputs": []
    },
    {
      "cell_type": "code",
      "source": [
        "model3 = Sequential()\n",
        "model3.add(Embedding(vocab_size_new, 500, weights=[embedding_matrix], input_length=max_length, trainable=False))\n",
        "model3.add(Bidirectional(tf.keras.layers.GRU(64)))\n",
        "model3.add(Flatten())\n",
        "model3.add(Dense(32, activation = 'relu', kernel_regularizer=tf.keras.regularizers.L2(0.01)))\n",
        "model3.add(Dropout(rate = 0.1))\n",
        "model3.add(Dense(16, activation = 'relu'))\n",
        "model3.add(Dense(5, activation = 'softmax'))\n",
        "\n",
        "model3.summary()"
      ],
      "metadata": {
        "colab": {
          "base_uri": "https://localhost:8080/"
        },
        "id": "YNZoYk9Oyz-j",
        "outputId": "af3838e3-d5a5-4df3-dc7c-eba2783a8edc"
      },
      "execution_count": null,
      "outputs": [
        {
          "output_type": "stream",
          "name": "stdout",
          "text": [
            "Model: \"sequential_24\"\n",
            "_________________________________________________________________\n",
            " Layer (type)                Output Shape              Param #   \n",
            "=================================================================\n",
            " embedding_24 (Embedding)    (None, 200, 500)          7544500   \n",
            "                                                                 \n",
            " bidirectional_26 (Bidirect  (None, 128)               217344    \n",
            " ional)                                                          \n",
            "                                                                 \n",
            " flatten_5 (Flatten)         (None, 128)               0         \n",
            "                                                                 \n",
            " dense_53 (Dense)            (None, 32)                4128      \n",
            "                                                                 \n",
            " dropout_11 (Dropout)        (None, 32)                0         \n",
            "                                                                 \n",
            " dense_54 (Dense)            (None, 16)                528       \n",
            "                                                                 \n",
            " dense_55 (Dense)            (None, 5)                 85        \n",
            "                                                                 \n",
            "=================================================================\n",
            "Total params: 7766585 (29.63 MB)\n",
            "Trainable params: 222085 (867.52 KB)\n",
            "Non-trainable params: 7544500 (28.78 MB)\n",
            "_________________________________________________________________\n"
          ]
        }
      ]
    },
    {
      "cell_type": "code",
      "source": [
        "model3.compile(loss = 'categorical_crossentropy', optimizer = 'adam', metrics = ['acc'])"
      ],
      "metadata": {
        "id": "WEP3gu_312yW"
      },
      "execution_count": null,
      "outputs": []
    },
    {
      "cell_type": "code",
      "source": [
        "h = model3.fit(train_padded, y_train, validation_data = (test_padded, y_test),\n",
        "          batch_size = 50, epochs = 3, callbacks = es)"
      ],
      "metadata": {
        "colab": {
          "base_uri": "https://localhost:8080/"
        },
        "id": "ZQaVRPWr16ER",
        "outputId": "78f94bc6-fc08-4179-dc53-708b59c2d4cc"
      },
      "execution_count": null,
      "outputs": [
        {
          "output_type": "stream",
          "name": "stdout",
          "text": [
            "Epoch 1/3\n",
            "128/128 [==============================] - 93s 686ms/step - loss: 1.8108 - acc: 0.2695 - val_loss: 1.6508 - val_acc: 0.2625\n",
            "Epoch 2/3\n",
            "128/128 [==============================] - 79s 615ms/step - loss: 1.6105 - acc: 0.2701 - val_loss: 1.5847 - val_acc: 0.2550\n",
            "Epoch 3/3\n",
            "128/128 [==============================] - 98s 767ms/step - loss: 1.5799 - acc: 0.2714 - val_loss: 1.5735 - val_acc: 0.2738\n"
          ]
        }
      ]
    },
    {
      "cell_type": "markdown",
      "source": [
        "Model has no overfitting, but doesn't perform well, with scores no better than the original y_class distribution."
      ],
      "metadata": {
        "id": "CyEHb7QnPEG5"
      }
    },
    {
      "cell_type": "markdown",
      "source": [
        "None of the models perform well, but Model 2 has the highest prediction accuracy for the test data (0.3516) - with VERY significant overfitting (X_train accuracy score was 0.6744)"
      ],
      "metadata": {
        "id": "Lqdvi6MlZKFo"
      }
    }
  ]
}